{
 "cells": [
  {
   "cell_type": "markdown",
   "id": "9bbd0577",
   "metadata": {},
   "source": [
    "# Setup"
   ]
  },
  {
   "cell_type": "code",
   "execution_count": 1,
   "id": "84cae8f5",
   "metadata": {},
   "outputs": [],
   "source": [
    "#Setup fastai\n",
    "!pip install -Uqq fastbook\n",
    "import fastbook\n",
    "fastbook.setup_book()"
   ]
  },
  {
   "cell_type": "code",
   "execution_count": 2,
   "id": "8486e3ad",
   "metadata": {},
   "outputs": [],
   "source": [
    "#Setup\n",
    "from fastbook import *\n",
    "from fastai.vision.widgets import *"
   ]
  },
  {
   "cell_type": "code",
   "execution_count": 3,
   "id": "1de4c4d3",
   "metadata": {},
   "outputs": [],
   "source": [
    "#Other Python Libs\n",
    "import random\n",
    "import os\n",
    "import shutil"
   ]
  },
  {
   "cell_type": "code",
   "execution_count": 4,
   "id": "9bcae3de",
   "metadata": {},
   "outputs": [],
   "source": [
    "# Setup Dirs\n",
    "\n",
    "NB_DIR = Path.cwd()\n",
    "ASSETS = NB_DIR/'..'/'assets'\n",
    "MODELS = ASSETS/'models'\n",
    "DATA   = ASSETS/'classify'"
   ]
  },
  {
   "cell_type": "markdown",
   "id": "751bedff",
   "metadata": {},
   "source": [
    "# Deploy the model"
   ]
  },
  {
   "cell_type": "code",
   "execution_count": 5,
   "id": "6c9c2091",
   "metadata": {},
   "outputs": [],
   "source": [
    "# Import model\n",
    "def label_func(x) : return x.parent.name #prevent import error: https://discuss.pytorch.org/t/error-loading-saved-model/8371\n",
    "\n",
    "learn_inf = load_learner(MODELS/'mf_classifier.pkl')"
   ]
  },
  {
   "cell_type": "code",
   "execution_count": 6,
   "id": "01fae7fd",
   "metadata": {},
   "outputs": [],
   "source": [
    "#Path for data to be classified\n",
    "DATA.mkdir(exist_ok=True)"
   ]
  },
  {
   "cell_type": "code",
   "execution_count": 7,
   "id": "04e52956",
   "metadata": {},
   "outputs": [],
   "source": [
    "# Header\n",
    "head = widgets.HTML('<h1>Marine Fouling Classifier</h1>')\n",
    "sub  = widgets.HTML('<h3>Search Images from DuckDuckGo</h3>')\n",
    "# Output Widget\n",
    "output = widgets.Output()\n",
    "output.clear_output()\n",
    "\n",
    "# Images\n",
    "options     = ImagesCleaner()\n",
    "\n",
    "# Search Images in DuckDuckGo\n",
    "label_range = widgets.Label('Number of Images to be fetched')\n",
    "txt_range   = widgets.Text()\n",
    "label_query = widgets.Label('Search Query')\n",
    "txt_query   = widgets.Text()\n",
    "btn_search  = widgets.Button(description='Search')\n",
    "btn_run     = widgets.Button(description='Classify')\n",
    "ddg_img     = Image.open(ASSETS/'ddg.png').to_thumb(180,180)\n",
    "ddg_logo    = widget(ddg_img)\n",
    "\n",
    "mainBox = VBox([head,sub,label_range,txt_range,label_query,txt_query,btn_search])\n",
    "header  = HBox([mainBox,ddg_logo]) "
   ]
  },
  {
   "cell_type": "code",
   "execution_count": 8,
   "id": "70a6ba6f",
   "metadata": {},
   "outputs": [],
   "source": [
    "# Callback Functions\n",
    "\n",
    "def on_run(self):\n",
    "    \"\"\"Manages each downloaded image associated dropdown menu and acts according to the choice made\"\"\"\n",
    "    #output.clear_output()\n",
    "    # Delete the selected images\n",
    "    for idx in options.delete(): options.fns[idx].unlink()\n",
    "        \n",
    "    # Update\n",
    "    fnames = get_image_files(DATA)\n",
    "    options.set_fns(fnames)\n",
    "    \n",
    "    # Classify the selected images\n",
    "    classifs=[]\n",
    "    for idx in options.fns: \n",
    "          pred,pred_idx,probs = learn_inf.predict(idx) #use learn_inf when fixed\n",
    "          lbl_pred = widgets.Label()\n",
    "          lbl_pred.value = f'Prediction: {pred}'\n",
    "          lbl_prob = widgets.Label()\n",
    "          lbl_prob.value = f'Probability: {probs[pred_idx]:.04f}'\n",
    "          classifs.append(VBox([lbl_pred,lbl_prob]))\n",
    "                    \n",
    "\n",
    "    class_labels = carousel(classifs, width='100%')\n",
    "    output.clear_output()\n",
    "    with output: display(options,class_labels)\n",
    "    with output: display(btn_run)\n",
    "        \n",
    "\n",
    "def searchDDG(self):\n",
    "    \"\"\"Fetches urls of images that corresponds to the search query in DuckDuckGo\n",
    "    and download them after clearing the destination folder\"\"\"\n",
    "    output.clear_output()\n",
    "    if DATA.exists and DATA.is_dir:\n",
    "        if len(DATA.ls()) > 0:\n",
    "            for p in DATA.ls(): os.unlink(p)\n",
    "                \n",
    "    query   = txt_query.value\n",
    "    _range  = int(txt_range.value)\n",
    "    \n",
    "    urls = search_images_ddg(query, max_images=_range) # returns at least 100 urls\n",
    "    download_images(DATA,urls=urls[:_range])\n",
    "    fnames      = get_image_files(DATA)\n",
    "    options.set_fns(fnames)\n",
    "\n",
    "    with output: display(options,btn_run)"
   ]
  },
  {
   "cell_type": "code",
   "execution_count": 9,
   "id": "b4429840",
   "metadata": {},
   "outputs": [
    {
     "data": {
      "application/vnd.jupyter.widget-view+json": {
       "model_id": "2b258ffed3c746dd95d999a3670a24a7",
       "version_major": 2,
       "version_minor": 0
      },
      "text/plain": [
       "HBox(children=(VBox(children=(HTML(value='<h1>Marine Fouling Classifier</h1>'), HTML(value='<h3>Search Images …"
      ]
     },
     "metadata": {},
     "output_type": "display_data"
    },
    {
     "data": {
      "application/vnd.jupyter.widget-view+json": {
       "model_id": "8734edc3a5944e34aa8f186509b5479b",
       "version_major": 2,
       "version_minor": 0
      },
      "text/plain": [
       "Output()"
      ]
     },
     "metadata": {},
     "output_type": "display_data"
    }
   ],
   "source": [
    "# Display\n",
    "\n",
    "btn_search.on_click(searchDDG)\n",
    "btn_run.on_click(on_run)\n",
    "\n",
    "display(header)\n",
    "output"
   ]
  },
  {
   "cell_type": "code",
   "execution_count": 10,
   "id": "e0daeef5",
   "metadata": {},
   "outputs": [
    {
     "name": "stdout",
     "output_type": "stream",
     "text": [
      "Collecting voila\n",
      "  Downloading voila-0.3.2-py3-none-any.whl (1.7 MB)\n",
      "\u001b[K     |████████████████████████████████| 1.7 MB 17.8 MB/s eta 0:00:01\n",
      "\u001b[?25hCollecting nbconvert<7,>=6.4.2\n",
      "  Downloading nbconvert-6.4.2-py3-none-any.whl (558 kB)\n",
      "\u001b[K     |████████████████████████████████| 558 kB 31.3 MB/s eta 0:00:01\n",
      "\u001b[?25hRequirement already satisfied: jupyter-client<8,>=6.1.3 in /opt/conda/lib/python3.7/site-packages (from voila) (6.1.12)\n",
      "Collecting nbclient<0.6,>=0.4.0\n",
      "  Downloading nbclient-0.5.11-py3-none-any.whl (71 kB)\n",
      "\u001b[K     |████████████████████████████████| 71 kB 16.1 MB/s eta 0:00:01\n",
      "\u001b[?25hCollecting websockets>=9.0\n",
      "  Downloading websockets-10.2-cp37-cp37m-manylinux_2_5_x86_64.manylinux1_x86_64.manylinux_2_12_x86_64.manylinux2010_x86_64.whl (111 kB)\n",
      "\u001b[K     |████████████████████████████████| 111 kB 30.6 MB/s eta 0:00:01\n",
      "\u001b[?25hCollecting jupyter-server<2.0.0,>=0.3.0\n",
      "  Downloading jupyter_server-1.13.5-py3-none-any.whl (397 kB)\n",
      "\u001b[K     |████████████████████████████████| 397 kB 34.2 MB/s eta 0:00:01\n",
      "\u001b[?25hRequirement already satisfied: traitlets<6,>=5.0.3 in /opt/conda/lib/python3.7/site-packages (from voila) (5.1.0)\n",
      "Collecting jupyterlab-server<3,>=2.3.0\n",
      "  Downloading jupyterlab_server-2.10.3-py3-none-any.whl (61 kB)\n",
      "\u001b[K     |████████████████████████████████| 61 kB 13.5 MB/s eta 0:00:01\n",
      "\u001b[?25hRequirement already satisfied: pyzmq>=13 in /opt/conda/lib/python3.7/site-packages (from jupyter-client<8,>=6.1.3->voila) (22.3.0)\n",
      "Requirement already satisfied: jupyter-core>=4.6.0 in /opt/conda/lib/python3.7/site-packages (from jupyter-client<8,>=6.1.3->voila) (4.9.1)\n",
      "Requirement already satisfied: tornado>=4.1 in /opt/conda/lib/python3.7/site-packages (from jupyter-client<8,>=6.1.3->voila) (6.1)\n",
      "Requirement already satisfied: python-dateutil>=2.1 in /opt/conda/lib/python3.7/site-packages (from jupyter-client<8,>=6.1.3->voila) (2.8.2)\n",
      "Requirement already satisfied: Send2Trash in /opt/conda/lib/python3.7/site-packages (from jupyter-server<2.0.0,>=0.3.0->voila) (1.8.0)\n",
      "Requirement already satisfied: argon2-cffi in /opt/conda/lib/python3.7/site-packages (from jupyter-server<2.0.0,>=0.3.0->voila) (21.1.0)\n",
      "Requirement already satisfied: terminado>=0.8.3 in /opt/conda/lib/python3.7/site-packages (from jupyter-server<2.0.0,>=0.3.0->voila) (0.12.1)\n",
      "Requirement already satisfied: jinja2 in /opt/conda/lib/python3.7/site-packages (from jupyter-server<2.0.0,>=0.3.0->voila) (2.11.3)\n",
      "Requirement already satisfied: packaging in /opt/conda/lib/python3.7/site-packages (from jupyter-server<2.0.0,>=0.3.0->voila) (21.2)\n",
      "Requirement already satisfied: prometheus-client in /opt/conda/lib/python3.7/site-packages (from jupyter-server<2.0.0,>=0.3.0->voila) (0.12.0)\n",
      "Collecting anyio<4,>=3.1.0\n",
      "  Downloading anyio-3.5.0-py3-none-any.whl (79 kB)\n",
      "\u001b[K     |████████████████████████████████| 79 kB 12.1 MB/s eta 0:00:01\n",
      "\u001b[?25hRequirement already satisfied: nbformat in /opt/conda/lib/python3.7/site-packages (from jupyter-server<2.0.0,>=0.3.0->voila) (5.1.3)\n",
      "Requirement already satisfied: ipython-genutils in /opt/conda/lib/python3.7/site-packages (from jupyter-server<2.0.0,>=0.3.0->voila) (0.2.0)\n",
      "Requirement already satisfied: websocket-client in /opt/conda/lib/python3.7/site-packages (from jupyter-server<2.0.0,>=0.3.0->voila) (1.2.1)\n",
      "Requirement already satisfied: typing-extensions in /opt/conda/lib/python3.7/site-packages (from anyio<4,>=3.1.0->jupyter-server<2.0.0,>=0.3.0->voila) (3.10.0.2)\n",
      "Requirement already satisfied: idna>=2.8 in /opt/conda/lib/python3.7/site-packages (from anyio<4,>=3.1.0->jupyter-server<2.0.0,>=0.3.0->voila) (2.10)\n",
      "Collecting sniffio>=1.1\n",
      "  Downloading sniffio-1.2.0-py3-none-any.whl (10 kB)\n",
      "Collecting babel\n",
      "  Downloading Babel-2.9.1-py2.py3-none-any.whl (8.8 MB)\n",
      "\u001b[K     |████████████████████████████████| 8.8 MB 44.5 MB/s eta 0:00:01\n",
      "\u001b[?25hCollecting json5\n",
      "  Downloading json5-0.9.6-py2.py3-none-any.whl (18 kB)\n",
      "Requirement already satisfied: requests in /opt/conda/lib/python3.7/site-packages (from jupyterlab-server<3,>=2.3.0->voila) (2.25.1)\n",
      "Requirement already satisfied: jsonschema>=3.0.1 in /opt/conda/lib/python3.7/site-packages (from jupyterlab-server<3,>=2.3.0->voila) (3.2.0)\n",
      "Requirement already satisfied: entrypoints>=0.2.2 in /opt/conda/lib/python3.7/site-packages (from jupyterlab-server<3,>=2.3.0->voila) (0.3)\n",
      "Requirement already satisfied: MarkupSafe>=0.23 in /opt/conda/lib/python3.7/site-packages (from jinja2->jupyter-server<2.0.0,>=0.3.0->voila) (2.0.1)\n",
      "Requirement already satisfied: pyrsistent>=0.14.0 in /opt/conda/lib/python3.7/site-packages (from jsonschema>=3.0.1->jupyterlab-server<3,>=2.3.0->voila) (0.18.0)\n",
      "Requirement already satisfied: importlib-metadata in /opt/conda/lib/python3.7/site-packages (from jsonschema>=3.0.1->jupyterlab-server<3,>=2.3.0->voila) (4.8.2)\n",
      "Requirement already satisfied: attrs>=17.4.0 in /opt/conda/lib/python3.7/site-packages (from jsonschema>=3.0.1->jupyterlab-server<3,>=2.3.0->voila) (21.2.0)\n",
      "Requirement already satisfied: six>=1.11.0 in /opt/conda/lib/python3.7/site-packages (from jsonschema>=3.0.1->jupyterlab-server<3,>=2.3.0->voila) (1.16.0)\n",
      "Requirement already satisfied: setuptools in /opt/conda/lib/python3.7/site-packages (from jsonschema>=3.0.1->jupyterlab-server<3,>=2.3.0->voila) (58.0.4)\n",
      "Collecting nest-asyncio\n",
      "  Downloading nest_asyncio-1.5.4-py3-none-any.whl (5.1 kB)\n",
      "Requirement already satisfied: pandocfilters>=1.4.1 in /opt/conda/lib/python3.7/site-packages (from nbconvert<7,>=6.4.2->voila) (1.5.0)\n",
      "Requirement already satisfied: testpath in /opt/conda/lib/python3.7/site-packages (from nbconvert<7,>=6.4.2->voila) (0.5.0)\n",
      "Requirement already satisfied: bleach in /opt/conda/lib/python3.7/site-packages (from nbconvert<7,>=6.4.2->voila) (4.1.0)\n",
      "Requirement already satisfied: pygments>=2.4.1 in /opt/conda/lib/python3.7/site-packages (from nbconvert<7,>=6.4.2->voila) (2.10.0)\n",
      "Collecting jupyterlab-pygments\n",
      "  Downloading jupyterlab_pygments-0.1.2-py2.py3-none-any.whl (4.6 kB)\n",
      "Requirement already satisfied: mistune<2,>=0.8.1 in /opt/conda/lib/python3.7/site-packages (from nbconvert<7,>=6.4.2->voila) (0.8.4)\n",
      "Requirement already satisfied: defusedxml in /opt/conda/lib/python3.7/site-packages (from nbconvert<7,>=6.4.2->voila) (0.7.1)\n",
      "Requirement already satisfied: ptyprocess in /opt/conda/lib/python3.7/site-packages (from terminado>=0.8.3->jupyter-server<2.0.0,>=0.3.0->voila) (0.7.0)\n",
      "Requirement already satisfied: cffi>=1.0.0 in /opt/conda/lib/python3.7/site-packages (from argon2-cffi->jupyter-server<2.0.0,>=0.3.0->voila) (1.14.6)\n",
      "Requirement already satisfied: pycparser in /opt/conda/lib/python3.7/site-packages (from cffi>=1.0.0->argon2-cffi->jupyter-server<2.0.0,>=0.3.0->voila) (2.20)\n",
      "Requirement already satisfied: pytz>=2015.7 in /opt/conda/lib/python3.7/site-packages (from babel->jupyterlab-server<3,>=2.3.0->voila) (2021.3)\n",
      "Requirement already satisfied: webencodings in /opt/conda/lib/python3.7/site-packages (from bleach->nbconvert<7,>=6.4.2->voila) (0.5.1)\n",
      "Requirement already satisfied: zipp>=0.5 in /opt/conda/lib/python3.7/site-packages (from importlib-metadata->jsonschema>=3.0.1->jupyterlab-server<3,>=2.3.0->voila) (3.6.0)\n",
      "Requirement already satisfied: pyparsing<3,>=2.0.2 in /opt/conda/lib/python3.7/site-packages (from packaging->jupyter-server<2.0.0,>=0.3.0->voila) (2.4.7)\n",
      "Requirement already satisfied: certifi>=2017.4.17 in /opt/conda/lib/python3.7/site-packages (from requests->jupyterlab-server<3,>=2.3.0->voila) (2021.10.8)\n",
      "Requirement already satisfied: urllib3<1.27,>=1.21.1 in /opt/conda/lib/python3.7/site-packages (from requests->jupyterlab-server<3,>=2.3.0->voila) (1.26.6)\n",
      "Requirement already satisfied: chardet<5,>=3.0.2 in /opt/conda/lib/python3.7/site-packages (from requests->jupyterlab-server<3,>=2.3.0->voila) (4.0.0)\n",
      "Installing collected packages: nest-asyncio, sniffio, nbclient, jupyterlab-pygments, nbconvert, anyio, jupyter-server, json5, babel, websockets, jupyterlab-server, voila\n",
      "  Attempting uninstall: nbconvert\n",
      "    Found existing installation: nbconvert 5.6.1\n",
      "    Uninstalling nbconvert-5.6.1:\n",
      "      Successfully uninstalled nbconvert-5.6.1\n",
      "\u001b[31mERROR: pip's dependency resolver does not currently take into account all the packages that are installed. This behaviour is the source of the following dependency conflicts.\n",
      "nbdev 1.1.23 requires nbconvert<6, but you have nbconvert 6.4.2 which is incompatible.\u001b[0m\n",
      "Successfully installed anyio-3.5.0 babel-2.9.1 json5-0.9.6 jupyter-server-1.13.5 jupyterlab-pygments-0.1.2 jupyterlab-server-2.10.3 nbclient-0.5.11 nbconvert-6.4.2 nest-asyncio-1.5.4 sniffio-1.2.0 voila-0.3.2 websockets-10.2\n",
      "Enabling: voila\n",
      "- Writing config: /opt/conda/etc/jupyter\n",
      "    - Validating...\n",
      "      voila 0.3.2 \u001b[32mOK\u001b[0m\n"
     ]
    }
   ],
   "source": [
    "# Deploy\n",
    "\n",
    "!pip install voila\n",
    "!jupyter serverextension enable --sys-prefix voila "
   ]
  },
  {
   "cell_type": "code",
   "execution_count": null,
   "id": "bb790189",
   "metadata": {},
   "outputs": [],
   "source": []
  }
 ],
 "metadata": {
  "kernelspec": {
   "display_name": "Python 3 (ipykernel)",
   "language": "python",
   "name": "python3"
  },
  "language_info": {
   "codemirror_mode": {
    "name": "ipython",
    "version": 3
   },
   "file_extension": ".py",
   "mimetype": "text/x-python",
   "name": "python",
   "nbconvert_exporter": "python",
   "pygments_lexer": "ipython3",
   "version": "3.7.11"
  }
 },
 "nbformat": 4,
 "nbformat_minor": 5
}
