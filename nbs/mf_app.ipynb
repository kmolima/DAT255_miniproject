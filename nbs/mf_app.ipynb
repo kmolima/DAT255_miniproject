{
 "cells": [
  {
   "cell_type": "markdown",
   "id": "9bbd0577",
   "metadata": {},
   "source": [
    "# Setup"
   ]
  },
  {
   "cell_type": "code",
   "execution_count": 1,
   "id": "84cae8f5",
   "metadata": {},
   "outputs": [],
   "source": [
    "#Setup fastai\n",
    "!pip install -Uqq fastbook\n",
    "import fastbook\n",
    "fastbook.setup_book()"
   ]
  },
  {
   "cell_type": "code",
   "execution_count": 2,
   "id": "8486e3ad",
   "metadata": {},
   "outputs": [],
   "source": [
    "#Setup\n",
    "from fastbook import *\n",
    "from fastai.vision.widgets import *"
   ]
  },
  {
   "cell_type": "code",
   "execution_count": 3,
   "id": "1de4c4d3",
   "metadata": {},
   "outputs": [],
   "source": [
    "#Other Python Libs\n",
    "import random\n",
    "import os\n",
    "import shutil"
   ]
  },
  {
   "cell_type": "code",
   "execution_count": 4,
   "id": "9bcae3de",
   "metadata": {},
   "outputs": [],
   "source": [
    "# Setup Dirs\n",
    "\n",
    "NB_DIR = Path.cwd()\n",
    "ASSETS = NB_DIR/'..'/'assets'\n",
    "MODELS = ASSETS/'models'\n",
    "DATA   = ASSETS/'classify'"
   ]
  },
  {
   "cell_type": "markdown",
   "id": "751bedff",
   "metadata": {},
   "source": [
    "# Deploy the model"
   ]
  },
  {
   "cell_type": "code",
   "execution_count": 5,
   "id": "6c9c2091",
   "metadata": {},
   "outputs": [],
   "source": [
    "# Import model\n",
    "def label_func(x) : return x.parent.name #prevent import error: https://discuss.pytorch.org/t/error-loading-saved-model/8371\n",
    "\n",
    "learn_inf = load_learner(MODELS/'model.pkl')"
   ]
  },
  {
   "cell_type": "code",
   "execution_count": 6,
   "id": "01fae7fd",
   "metadata": {},
   "outputs": [],
   "source": [
    "#Path for data to be classified\n",
    "DATA.mkdir(exist_ok=True)"
   ]
  },
  {
   "cell_type": "code",
   "execution_count": 7,
   "id": "04e52956",
   "metadata": {},
   "outputs": [],
   "source": [
    "# Header\n",
    "head = widgets.HTML('<h1>Marine Fouling Classifier</h1>')\n",
    "sub  = widgets.HTML('<h3>Search Images from DuckDuckGo</h3>')\n",
    "# Output Widget\n",
    "output = widgets.Output()\n",
    "output.clear_output()\n",
    "\n",
    "# Images\n",
    "options     = ImagesCleaner()\n",
    "\n",
    "# Search Images in DuckDuckGo\n",
    "label_range = widgets.Label('Number of Images to be fetched')\n",
    "txt_range   = widgets.Text()\n",
    "label_query = widgets.Label('Search Query')\n",
    "txt_query   = widgets.Text()\n",
    "btn_search  = widgets.Button(description='Search')\n",
    "btn_run     = widgets.Button(description='Classify')\n",
    "ddg_img     = Image.open(ASSETS/'ddg.png').to_thumb(180,180)\n",
    "ddg_logo    = widget(ddg_img)\n",
    "\n",
    "mainBox = VBox([head,sub,label_range,txt_range,label_query,txt_query,btn_search])\n",
    "header  = HBox([mainBox,ddg_logo]) "
   ]
  },
  {
   "cell_type": "code",
   "execution_count": 8,
   "id": "70a6ba6f",
   "metadata": {},
   "outputs": [],
   "source": [
    "# Callback Functions\n",
    "\n",
    "def on_run(self):\n",
    "    \"\"\"Manages each downloaded image associated dropdown menu and acts according to the choice made\"\"\"\n",
    "    #output.clear_output()\n",
    "    # Delete the selected images\n",
    "    for idx in options.delete(): options.fns[idx].unlink()\n",
    "        \n",
    "    # Update\n",
    "    fnames = get_image_files(DATA)\n",
    "    options.set_fns(fnames)\n",
    "    \n",
    "    # Classify the selected images\n",
    "    classifs=[]\n",
    "    for idx in options.fns: \n",
    "          pred,pred_idx,probs = learn_inf.predict(idx) #use learn_inf when fixed\n",
    "          lbl_pred = widgets.Label()\n",
    "          lbl_pred.value = f'Prediction: {pred}'\n",
    "          lbl_prob = widgets.Label()\n",
    "          lbl_prob.value = f'Probability: {probs[pred_idx]:.04f}'\n",
    "          classifs.append(VBox([lbl_pred,lbl_prob]))\n",
    "                    \n",
    "\n",
    "    class_labels = carousel(classifs, width='100%')\n",
    "    output.clear_output()\n",
    "    with output: display(options,class_labels)\n",
    "    with output: display(btn_run)\n",
    "        \n",
    "\n",
    "def searchDDG(self):\n",
    "    \"\"\"Fetches urls of images that corresponds to the search query in DuckDuckGo\n",
    "    and download them after clearing the destination folder\"\"\"\n",
    "    output.clear_output()\n",
    "    if DATA.exists and DATA.is_dir:\n",
    "        if len(DATA.ls()) > 0:\n",
    "            for p in DATA.ls(): os.unlink(p)\n",
    "                \n",
    "    query   = txt_query.value\n",
    "    _range  = int(txt_range.value)\n",
    "    \n",
    "    urls = search_images_ddg(query, max_images=_range) # returns at least 100 urls\n",
    "    download_images(DATA,urls=urls[:_range])\n",
    "    fnames      = get_image_files(DATA)\n",
    "    options.set_fns(fnames)\n",
    "\n",
    "    with output: display(options,btn_run)"
   ]
  },
  {
   "cell_type": "code",
   "execution_count": 9,
   "id": "b4429840",
   "metadata": {},
   "outputs": [
    {
     "data": {
      "application/vnd.jupyter.widget-view+json": {
       "model_id": "2b258ffed3c746dd95d999a3670a24a7",
       "version_major": 2,
       "version_minor": 0
      },
      "text/plain": [
       "HBox(children=(VBox(children=(HTML(value='<h1>Marine Fouling Classifier</h1>'), HTML(value='<h3>Search Images …"
      ]
     },
     "metadata": {},
     "output_type": "display_data"
    },
    {
     "data": {
      "application/vnd.jupyter.widget-view+json": {
       "model_id": "8734edc3a5944e34aa8f186509b5479b",
       "version_major": 2,
       "version_minor": 0
      },
      "text/plain": [
       "Output()"
      ]
     },
     "metadata": {},
     "output_type": "display_data"
    }
   ],
   "source": [
    "# Display\n",
    "\n",
    "btn_search.on_click(searchDDG)\n",
    "btn_run.on_click(on_run)\n",
    "\n",
    "display(header)\n",
    "output"
   ]
  },
  {
   "cell_type": "code",
   "execution_count": 22,
   "id": "e0daeef5",
   "metadata": {},
   "outputs": [],
   "source": [
    "# Deploy\n",
    "\n",
    "#!pip install voila\n",
    "#!jupyter serverextension enable --sys-prefix voila "
   ]
  },
  {
   "cell_type": "code",
   "execution_count": 21,
   "id": "aed97dc1",
   "metadata": {},
   "outputs": [],
   "source": [
    "#!pip install pipreqs\n",
    "#!pip install nbconvert"
   ]
  },
  {
   "cell_type": "code",
   "execution_count": 23,
   "id": "c1c070b7",
   "metadata": {},
   "outputs": [],
   "source": [
    "#!jupyter nbconvert --to script mf_app.ipynb --output-dir=\"./reqs\""
   ]
  },
  {
   "cell_type": "code",
   "execution_count": 24,
   "id": "c5db59da",
   "metadata": {},
   "outputs": [],
   "source": [
    "#!pipreqs reqs/"
   ]
  },
  {
   "cell_type": "markdown",
   "id": "163e0804",
   "metadata": {},
   "source": [
    "# Link to Binder\n",
    "\n",
    "https://mybinder.org/v2/gh/kmolima/DAT255_miniproject/bba691d9f00c6ee2871ea8077c3f377efe4c2d9b?urlpath=lab%2Ftree%2Fnbs%2Fmf_app.ipynb\n"
   ]
  }
 ],
 "metadata": {
  "kernelspec": {
   "display_name": "Python 3 (ipykernel)",
   "language": "python",
   "name": "python3"
  },
  "language_info": {
   "codemirror_mode": {
    "name": "ipython",
    "version": 3
   },
   "file_extension": ".py",
   "mimetype": "text/x-python",
   "name": "python",
   "nbconvert_exporter": "python",
   "pygments_lexer": "ipython3",
   "version": "3.7.11"
  }
 },
 "nbformat": 4,
 "nbformat_minor": 5
}
